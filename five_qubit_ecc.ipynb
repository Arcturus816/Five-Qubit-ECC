{
 "cells": [
  {
   "cell_type": "markdown",
   "id": "5d76b3da",
   "metadata": {},
   "source": [
    "# Five qubit error correcting code\n",
    "\n",
    "This notebook explains our Qiskit implementation of the five qubit error correcting code with a random Pauli error channel.\n",
    "\n",
    "**Outline**\n",
    "1. Basic explanation of the five qubit error correcting code\n",
    "2. State preparation\n",
    "3. Random Pauli error\n",
    "4. Measuring syndromes\n",
    "5. Applying recovery operations\n",
    "6. Simulating the entire circuit with various error probabilities"
   ]
  },
  {
   "cell_type": "markdown",
   "id": "0cd2a5ac",
   "metadata": {},
   "source": [
    "## The five qubit error correcting code"
   ]
  },
  {
   "cell_type": "markdown",
   "id": "e743f270",
   "metadata": {},
   "source": [
    "## State preparation"
   ]
  },
  {
   "cell_type": "markdown",
   "id": "ce48ed89",
   "metadata": {},
   "source": [
    "## Applying random Pauli errors to the logical state"
   ]
  },
  {
   "cell_type": "markdown",
   "id": "907a1de6",
   "metadata": {},
   "source": [
    "## Measuring syndromes"
   ]
  },
  {
   "cell_type": "markdown",
   "id": "8bfdd446",
   "metadata": {},
   "source": [
    "## Applying recovery operations"
   ]
  },
  {
   "cell_type": "markdown",
   "id": "6502cde4",
   "metadata": {},
   "source": [
    "## Simulating the circuit"
   ]
  },
  {
   "cell_type": "markdown",
   "id": "d46a2534",
   "metadata": {},
   "source": []
  }
 ],
 "metadata": {
  "kernelspec": {
   "display_name": "five-qubit-ecc-env",
   "language": "python",
   "name": "python3"
  },
  "language_info": {
   "codemirror_mode": {
    "name": "ipython",
    "version": 3
   },
   "file_extension": ".py",
   "mimetype": "text/x-python",
   "name": "python",
   "nbconvert_exporter": "python",
   "pygments_lexer": "ipython3",
   "version": "3.13.5"
  }
 },
 "nbformat": 4,
 "nbformat_minor": 5
}
